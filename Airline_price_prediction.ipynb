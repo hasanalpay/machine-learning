{
  "nbformat": 4,
  "nbformat_minor": 0,
  "metadata": {
    "colab": {
      "provenance": [],
      "authorship_tag": "ABX9TyOd2GpBzki1trIubSIm11U8",
      "include_colab_link": true
    },
    "kernelspec": {
      "name": "python3",
      "display_name": "Python 3"
    },
    "language_info": {
      "name": "python"
    }
  },
  "cells": [
    {
      "cell_type": "markdown",
      "metadata": {
        "id": "view-in-github",
        "colab_type": "text"
      },
      "source": [
        "<a href=\"https://colab.research.google.com/github/hasanalpay/machine-learning/blob/main/Airline_price_prediction.ipynb\" target=\"_parent\"><img src=\"https://colab.research.google.com/assets/colab-badge.svg\" alt=\"Open In Colab\"/></a>"
      ]
    },
    {
      "cell_type": "code",
      "source": [
        "import numpy as np\n",
        "import pandas as pd\n",
        "from sklearn.preprocessing import StandardScaler,MinMaxScaler\n",
        "import matplotlib.pyplot as plt"
      ],
      "metadata": {
        "id": "UHZm4ZewNf0e"
      },
      "execution_count": 159,
      "outputs": []
    },
    {
      "cell_type": "code",
      "source": [
        "df=pd.read_csv('air.csv')\n",
        "df.head(3)"
      ],
      "metadata": {
        "colab": {
          "base_uri": "https://localhost:8080/",
          "height": 213
        },
        "id": "305zXZRDN5QV",
        "outputId": "1351b348-14a4-4987-8871-6ecfeac6a317"
      },
      "execution_count": 160,
      "outputs": [
        {
          "output_type": "execute_result",
          "data": {
            "text/plain": [
              "                     Model Name Engine Type HP or lbs thr ea engine  \\\n",
              "0  100 Darter (S.L. Industries)      Piston                     145   \n",
              "1                   7 CCM Champ      Piston                      85   \n",
              "2  100 Darter (S.L. Industries)      Piston                      90   \n",
              "\n",
              "   Max speed Knots  Rcmnd cruise Knots  Stall Knots dirty  Fuel gal/lbs  \\\n",
              "0            104.0                91.0               46.0          36.0   \n",
              "1             89.0                83.0               44.0          15.0   \n",
              "2             90.0                78.0               37.0          19.0   \n",
              "\n",
              "  All eng rate of climb  Eng out rate of climb  Takeoff over 50ft  \\\n",
              "0                   450                  900.0             1300.0   \n",
              "1                   600                  720.0              800.0   \n",
              "2                   650                  475.0              850.0   \n",
              "\n",
              "  Landing over 50ft Empty weight lbs Length ft/in Wing span ft/in Range N.M.  \\\n",
              "0             2,050            1,180         25/3            37/5        370   \n",
              "1             1,350              820         20/7            36/1        190   \n",
              "2             1,300              810         21/5            35/0        210   \n",
              "\n",
              "       Price  \n",
              "0  1300000.0  \n",
              "1  1230000.0  \n",
              "2  1600000.0  "
            ],
            "text/html": [
              "\n",
              "  <div id=\"df-c79137a1-82e3-4b5a-95de-2dd2a4470829\" class=\"colab-df-container\">\n",
              "    <div>\n",
              "<style scoped>\n",
              "    .dataframe tbody tr th:only-of-type {\n",
              "        vertical-align: middle;\n",
              "    }\n",
              "\n",
              "    .dataframe tbody tr th {\n",
              "        vertical-align: top;\n",
              "    }\n",
              "\n",
              "    .dataframe thead th {\n",
              "        text-align: right;\n",
              "    }\n",
              "</style>\n",
              "<table border=\"1\" class=\"dataframe\">\n",
              "  <thead>\n",
              "    <tr style=\"text-align: right;\">\n",
              "      <th></th>\n",
              "      <th>Model Name</th>\n",
              "      <th>Engine Type</th>\n",
              "      <th>HP or lbs thr ea engine</th>\n",
              "      <th>Max speed Knots</th>\n",
              "      <th>Rcmnd cruise Knots</th>\n",
              "      <th>Stall Knots dirty</th>\n",
              "      <th>Fuel gal/lbs</th>\n",
              "      <th>All eng rate of climb</th>\n",
              "      <th>Eng out rate of climb</th>\n",
              "      <th>Takeoff over 50ft</th>\n",
              "      <th>Landing over 50ft</th>\n",
              "      <th>Empty weight lbs</th>\n",
              "      <th>Length ft/in</th>\n",
              "      <th>Wing span ft/in</th>\n",
              "      <th>Range N.M.</th>\n",
              "      <th>Price</th>\n",
              "    </tr>\n",
              "  </thead>\n",
              "  <tbody>\n",
              "    <tr>\n",
              "      <th>0</th>\n",
              "      <td>100 Darter (S.L. Industries)</td>\n",
              "      <td>Piston</td>\n",
              "      <td>145</td>\n",
              "      <td>104.0</td>\n",
              "      <td>91.0</td>\n",
              "      <td>46.0</td>\n",
              "      <td>36.0</td>\n",
              "      <td>450</td>\n",
              "      <td>900.0</td>\n",
              "      <td>1300.0</td>\n",
              "      <td>2,050</td>\n",
              "      <td>1,180</td>\n",
              "      <td>25/3</td>\n",
              "      <td>37/5</td>\n",
              "      <td>370</td>\n",
              "      <td>1300000.0</td>\n",
              "    </tr>\n",
              "    <tr>\n",
              "      <th>1</th>\n",
              "      <td>7 CCM Champ</td>\n",
              "      <td>Piston</td>\n",
              "      <td>85</td>\n",
              "      <td>89.0</td>\n",
              "      <td>83.0</td>\n",
              "      <td>44.0</td>\n",
              "      <td>15.0</td>\n",
              "      <td>600</td>\n",
              "      <td>720.0</td>\n",
              "      <td>800.0</td>\n",
              "      <td>1,350</td>\n",
              "      <td>820</td>\n",
              "      <td>20/7</td>\n",
              "      <td>36/1</td>\n",
              "      <td>190</td>\n",
              "      <td>1230000.0</td>\n",
              "    </tr>\n",
              "    <tr>\n",
              "      <th>2</th>\n",
              "      <td>100 Darter (S.L. Industries)</td>\n",
              "      <td>Piston</td>\n",
              "      <td>90</td>\n",
              "      <td>90.0</td>\n",
              "      <td>78.0</td>\n",
              "      <td>37.0</td>\n",
              "      <td>19.0</td>\n",
              "      <td>650</td>\n",
              "      <td>475.0</td>\n",
              "      <td>850.0</td>\n",
              "      <td>1,300</td>\n",
              "      <td>810</td>\n",
              "      <td>21/5</td>\n",
              "      <td>35/0</td>\n",
              "      <td>210</td>\n",
              "      <td>1600000.0</td>\n",
              "    </tr>\n",
              "  </tbody>\n",
              "</table>\n",
              "</div>\n",
              "    <div class=\"colab-df-buttons\">\n",
              "\n",
              "  <div class=\"colab-df-container\">\n",
              "    <button class=\"colab-df-convert\" onclick=\"convertToInteractive('df-c79137a1-82e3-4b5a-95de-2dd2a4470829')\"\n",
              "            title=\"Convert this dataframe to an interactive table.\"\n",
              "            style=\"display:none;\">\n",
              "\n",
              "  <svg xmlns=\"http://www.w3.org/2000/svg\" height=\"24px\" viewBox=\"0 -960 960 960\">\n",
              "    <path d=\"M120-120v-720h720v720H120Zm60-500h600v-160H180v160Zm220 220h160v-160H400v160Zm0 220h160v-160H400v160ZM180-400h160v-160H180v160Zm440 0h160v-160H620v160ZM180-180h160v-160H180v160Zm440 0h160v-160H620v160Z\"/>\n",
              "  </svg>\n",
              "    </button>\n",
              "\n",
              "  <style>\n",
              "    .colab-df-container {\n",
              "      display:flex;\n",
              "      gap: 12px;\n",
              "    }\n",
              "\n",
              "    .colab-df-convert {\n",
              "      background-color: #E8F0FE;\n",
              "      border: none;\n",
              "      border-radius: 50%;\n",
              "      cursor: pointer;\n",
              "      display: none;\n",
              "      fill: #1967D2;\n",
              "      height: 32px;\n",
              "      padding: 0 0 0 0;\n",
              "      width: 32px;\n",
              "    }\n",
              "\n",
              "    .colab-df-convert:hover {\n",
              "      background-color: #E2EBFA;\n",
              "      box-shadow: 0px 1px 2px rgba(60, 64, 67, 0.3), 0px 1px 3px 1px rgba(60, 64, 67, 0.15);\n",
              "      fill: #174EA6;\n",
              "    }\n",
              "\n",
              "    .colab-df-buttons div {\n",
              "      margin-bottom: 4px;\n",
              "    }\n",
              "\n",
              "    [theme=dark] .colab-df-convert {\n",
              "      background-color: #3B4455;\n",
              "      fill: #D2E3FC;\n",
              "    }\n",
              "\n",
              "    [theme=dark] .colab-df-convert:hover {\n",
              "      background-color: #434B5C;\n",
              "      box-shadow: 0px 1px 3px 1px rgba(0, 0, 0, 0.15);\n",
              "      filter: drop-shadow(0px 1px 2px rgba(0, 0, 0, 0.3));\n",
              "      fill: #FFFFFF;\n",
              "    }\n",
              "  </style>\n",
              "\n",
              "    <script>\n",
              "      const buttonEl =\n",
              "        document.querySelector('#df-c79137a1-82e3-4b5a-95de-2dd2a4470829 button.colab-df-convert');\n",
              "      buttonEl.style.display =\n",
              "        google.colab.kernel.accessAllowed ? 'block' : 'none';\n",
              "\n",
              "      async function convertToInteractive(key) {\n",
              "        const element = document.querySelector('#df-c79137a1-82e3-4b5a-95de-2dd2a4470829');\n",
              "        const dataTable =\n",
              "          await google.colab.kernel.invokeFunction('convertToInteractive',\n",
              "                                                    [key], {});\n",
              "        if (!dataTable) return;\n",
              "\n",
              "        const docLinkHtml = 'Like what you see? Visit the ' +\n",
              "          '<a target=\"_blank\" href=https://colab.research.google.com/notebooks/data_table.ipynb>data table notebook</a>'\n",
              "          + ' to learn more about interactive tables.';\n",
              "        element.innerHTML = '';\n",
              "        dataTable['output_type'] = 'display_data';\n",
              "        await google.colab.output.renderOutput(dataTable, element);\n",
              "        const docLink = document.createElement('div');\n",
              "        docLink.innerHTML = docLinkHtml;\n",
              "        element.appendChild(docLink);\n",
              "      }\n",
              "    </script>\n",
              "  </div>\n",
              "\n",
              "\n",
              "<div id=\"df-f211ea5a-e566-4e03-9377-bc80cd978cfc\">\n",
              "  <button class=\"colab-df-quickchart\" onclick=\"quickchart('df-f211ea5a-e566-4e03-9377-bc80cd978cfc')\"\n",
              "            title=\"Suggest charts\"\n",
              "            style=\"display:none;\">\n",
              "\n",
              "<svg xmlns=\"http://www.w3.org/2000/svg\" height=\"24px\"viewBox=\"0 0 24 24\"\n",
              "     width=\"24px\">\n",
              "    <g>\n",
              "        <path d=\"M19 3H5c-1.1 0-2 .9-2 2v14c0 1.1.9 2 2 2h14c1.1 0 2-.9 2-2V5c0-1.1-.9-2-2-2zM9 17H7v-7h2v7zm4 0h-2V7h2v10zm4 0h-2v-4h2v4z\"/>\n",
              "    </g>\n",
              "</svg>\n",
              "  </button>\n",
              "\n",
              "<style>\n",
              "  .colab-df-quickchart {\n",
              "      --bg-color: #E8F0FE;\n",
              "      --fill-color: #1967D2;\n",
              "      --hover-bg-color: #E2EBFA;\n",
              "      --hover-fill-color: #174EA6;\n",
              "      --disabled-fill-color: #AAA;\n",
              "      --disabled-bg-color: #DDD;\n",
              "  }\n",
              "\n",
              "  [theme=dark] .colab-df-quickchart {\n",
              "      --bg-color: #3B4455;\n",
              "      --fill-color: #D2E3FC;\n",
              "      --hover-bg-color: #434B5C;\n",
              "      --hover-fill-color: #FFFFFF;\n",
              "      --disabled-bg-color: #3B4455;\n",
              "      --disabled-fill-color: #666;\n",
              "  }\n",
              "\n",
              "  .colab-df-quickchart {\n",
              "    background-color: var(--bg-color);\n",
              "    border: none;\n",
              "    border-radius: 50%;\n",
              "    cursor: pointer;\n",
              "    display: none;\n",
              "    fill: var(--fill-color);\n",
              "    height: 32px;\n",
              "    padding: 0;\n",
              "    width: 32px;\n",
              "  }\n",
              "\n",
              "  .colab-df-quickchart:hover {\n",
              "    background-color: var(--hover-bg-color);\n",
              "    box-shadow: 0 1px 2px rgba(60, 64, 67, 0.3), 0 1px 3px 1px rgba(60, 64, 67, 0.15);\n",
              "    fill: var(--button-hover-fill-color);\n",
              "  }\n",
              "\n",
              "  .colab-df-quickchart-complete:disabled,\n",
              "  .colab-df-quickchart-complete:disabled:hover {\n",
              "    background-color: var(--disabled-bg-color);\n",
              "    fill: var(--disabled-fill-color);\n",
              "    box-shadow: none;\n",
              "  }\n",
              "\n",
              "  .colab-df-spinner {\n",
              "    border: 2px solid var(--fill-color);\n",
              "    border-color: transparent;\n",
              "    border-bottom-color: var(--fill-color);\n",
              "    animation:\n",
              "      spin 1s steps(1) infinite;\n",
              "  }\n",
              "\n",
              "  @keyframes spin {\n",
              "    0% {\n",
              "      border-color: transparent;\n",
              "      border-bottom-color: var(--fill-color);\n",
              "      border-left-color: var(--fill-color);\n",
              "    }\n",
              "    20% {\n",
              "      border-color: transparent;\n",
              "      border-left-color: var(--fill-color);\n",
              "      border-top-color: var(--fill-color);\n",
              "    }\n",
              "    30% {\n",
              "      border-color: transparent;\n",
              "      border-left-color: var(--fill-color);\n",
              "      border-top-color: var(--fill-color);\n",
              "      border-right-color: var(--fill-color);\n",
              "    }\n",
              "    40% {\n",
              "      border-color: transparent;\n",
              "      border-right-color: var(--fill-color);\n",
              "      border-top-color: var(--fill-color);\n",
              "    }\n",
              "    60% {\n",
              "      border-color: transparent;\n",
              "      border-right-color: var(--fill-color);\n",
              "    }\n",
              "    80% {\n",
              "      border-color: transparent;\n",
              "      border-right-color: var(--fill-color);\n",
              "      border-bottom-color: var(--fill-color);\n",
              "    }\n",
              "    90% {\n",
              "      border-color: transparent;\n",
              "      border-bottom-color: var(--fill-color);\n",
              "    }\n",
              "  }\n",
              "</style>\n",
              "\n",
              "  <script>\n",
              "    async function quickchart(key) {\n",
              "      const quickchartButtonEl =\n",
              "        document.querySelector('#' + key + ' button');\n",
              "      quickchartButtonEl.disabled = true;  // To prevent multiple clicks.\n",
              "      quickchartButtonEl.classList.add('colab-df-spinner');\n",
              "      try {\n",
              "        const charts = await google.colab.kernel.invokeFunction(\n",
              "            'suggestCharts', [key], {});\n",
              "      } catch (error) {\n",
              "        console.error('Error during call to suggestCharts:', error);\n",
              "      }\n",
              "      quickchartButtonEl.classList.remove('colab-df-spinner');\n",
              "      quickchartButtonEl.classList.add('colab-df-quickchart-complete');\n",
              "    }\n",
              "    (() => {\n",
              "      let quickchartButtonEl =\n",
              "        document.querySelector('#df-f211ea5a-e566-4e03-9377-bc80cd978cfc button');\n",
              "      quickchartButtonEl.style.display =\n",
              "        google.colab.kernel.accessAllowed ? 'block' : 'none';\n",
              "    })();\n",
              "  </script>\n",
              "</div>\n",
              "\n",
              "    </div>\n",
              "  </div>\n"
            ],
            "application/vnd.google.colaboratory.intrinsic+json": {
              "type": "dataframe",
              "variable_name": "df",
              "summary": "{\n  \"name\": \"df\",\n  \"rows\": 517,\n  \"fields\": [\n    {\n      \"column\": \"Model Name\",\n      \"properties\": {\n        \"dtype\": \"string\",\n        \"num_unique_values\": 276,\n        \"samples\": [\n          \"60 Duke Pressurized\",\n          \"177 RG Cardinal\",\n          \"MX-7-160\"\n        ],\n        \"semantic_type\": \"\",\n        \"description\": \"\"\n      }\n    },\n    {\n      \"column\": \"Engine Type\",\n      \"properties\": {\n        \"dtype\": \"category\",\n        \"num_unique_values\": 4,\n        \"samples\": [\n          \"Propjet\",\n          \"piston\",\n          \"Piston\"\n        ],\n        \"semantic_type\": \"\",\n        \"description\": \"\"\n      }\n    },\n    {\n      \"column\": \"HP or lbs thr ea engine\",\n      \"properties\": {\n        \"dtype\": \"category\",\n        \"num_unique_values\": 107,\n        \"samples\": [\n          \"135\",\n          \"275\",\n          \"350\"\n        ],\n        \"semantic_type\": \"\",\n        \"description\": \"\"\n      }\n    },\n    {\n      \"column\": \"Max speed Knots\",\n      \"properties\": {\n        \"dtype\": \"number\",\n        \"std\": 111.31004612534922,\n        \"min\": 78.0,\n        \"max\": 530.0,\n        \"num_unique_values\": 201,\n        \"samples\": [\n          464.0,\n          99.0,\n          157.0\n        ],\n        \"semantic_type\": \"\",\n        \"description\": \"\"\n      }\n    },\n    {\n      \"column\": \"Rcmnd cruise Knots\",\n      \"properties\": {\n        \"dtype\": \"number\",\n        \"std\": 100.92368130119588,\n        \"min\": 70.0,\n        \"max\": 461.0,\n        \"num_unique_values\": 181,\n        \"samples\": [\n          103.0,\n          245.0,\n          410.0\n        ],\n        \"semantic_type\": \"\",\n        \"description\": \"\"\n      }\n    },\n    {\n      \"column\": \"Stall Knots dirty\",\n      \"properties\": {\n        \"dtype\": \"number\",\n        \"std\": 16.513954632126126,\n        \"min\": 27.0,\n        \"max\": 115.0,\n        \"num_unique_values\": 69,\n        \"samples\": [\n          57.0,\n          46.0,\n          88.0\n        ],\n        \"semantic_type\": \"\",\n        \"description\": \"\"\n      }\n    },\n    {\n      \"column\": \"Fuel gal/lbs\",\n      \"properties\": {\n        \"dtype\": \"number\",\n        \"std\": 4275.940833843978,\n        \"min\": 12.0,\n        \"max\": 41000.0,\n        \"num_unique_values\": 165,\n        \"samples\": [\n          41000.0,\n          19165.0,\n          648.0\n        ],\n        \"semantic_type\": \"\",\n        \"description\": \"\"\n      }\n    },\n    {\n      \"column\": \"All eng rate of climb\",\n      \"properties\": {\n        \"dtype\": \"category\",\n        \"num_unique_values\": 253,\n        \"samples\": [\n          \"937\",\n          \"1,820\",\n          \"1,136\"\n        ],\n        \"semantic_type\": \"\",\n        \"description\": \"\"\n      }\n    },\n    {\n      \"column\": \"Eng out rate of climb\",\n      \"properties\": {\n        \"dtype\": \"number\",\n        \"std\": 1139.0546854497372,\n        \"min\": 457.0,\n        \"max\": 6400.0,\n        \"num_unique_values\": 268,\n        \"samples\": [\n          4710.0,\n          4950.0,\n          535.0\n        ],\n        \"semantic_type\": \"\",\n        \"description\": \"\"\n      }\n    },\n    {\n      \"column\": \"Takeoff over 50ft\",\n      \"properties\": {\n        \"dtype\": \"number\",\n        \"std\": 718.5441189067094,\n        \"min\": 500.0,\n        \"max\": 4850.0,\n        \"num_unique_values\": 233,\n        \"samples\": [\n          825.0,\n          2700.0,\n          2446.0\n        ],\n        \"semantic_type\": \"\",\n        \"description\": \"\"\n      }\n    },\n    {\n      \"column\": \"Landing over 50ft\",\n      \"properties\": {\n        \"dtype\": \"category\",\n        \"num_unique_values\": 203,\n        \"samples\": [\n          \"1,400\",\n          \"5,200\",\n          \"4,400\"\n        ],\n        \"semantic_type\": \"\",\n        \"description\": \"\"\n      }\n    },\n    {\n      \"column\": \"Empty weight lbs\",\n      \"properties\": {\n        \"dtype\": \"string\",\n        \"num_unique_values\": 416,\n        \"samples\": [\n          \"12,775\",\n          \"1,120\",\n          \"5,732\"\n        ],\n        \"semantic_type\": \"\",\n        \"description\": \"\"\n      }\n    },\n    {\n      \"column\": \"Length ft/in\",\n      \"properties\": {\n        \"dtype\": \"category\",\n        \"num_unique_values\": 177,\n        \"samples\": [\n          \"29/7\",\n          \"29/0\",\n          \"49/6\"\n        ],\n        \"semantic_type\": \"\",\n        \"description\": \"\"\n      }\n    },\n    {\n      \"column\": \"Wing span ft/in\",\n      \"properties\": {\n        \"dtype\": \"category\",\n        \"num_unique_values\": 130,\n        \"samples\": [\n          \"35/7\",\n          \"45/2\",\n          \"31/6\"\n        ],\n        \"semantic_type\": \"\",\n        \"description\": \"\"\n      }\n    },\n    {\n      \"column\": \"Range N.M.\",\n      \"properties\": {\n        \"dtype\": \"string\",\n        \"num_unique_values\": 289,\n        \"samples\": [\n          \"1,290\",\n          \"732\",\n          \"734\"\n        ],\n        \"semantic_type\": \"\",\n        \"description\": \"\"\n      }\n    },\n    {\n      \"column\": \"Price\",\n      \"properties\": {\n        \"dtype\": \"number\",\n        \"std\": 997966.0651277618,\n        \"min\": 650000.0,\n        \"max\": 5100000.0,\n        \"num_unique_values\": 176,\n        \"samples\": [\n          1700000.0,\n          2700000.0,\n          1460000.0\n        ],\n        \"semantic_type\": \"\",\n        \"description\": \"\"\n      }\n    }\n  ]\n}"
            }
          },
          "metadata": {},
          "execution_count": 160
        }
      ]
    },
    {
      "cell_type": "code",
      "source": [
        "df.info()"
      ],
      "metadata": {
        "colab": {
          "base_uri": "https://localhost:8080/"
        },
        "id": "i2TocCtIPW9S",
        "outputId": "cb647ac0-4225-4e05-ca77-317b5fefa6a2"
      },
      "execution_count": 161,
      "outputs": [
        {
          "output_type": "stream",
          "name": "stdout",
          "text": [
            "<class 'pandas.core.frame.DataFrame'>\n",
            "RangeIndex: 517 entries, 0 to 516\n",
            "Data columns (total 16 columns):\n",
            " #   Column                   Non-Null Count  Dtype  \n",
            "---  ------                   --------------  -----  \n",
            " 0   Model Name               503 non-null    object \n",
            " 1   Engine Type              503 non-null    object \n",
            " 2   HP or lbs thr ea engine  503 non-null    object \n",
            " 3   Max speed Knots          484 non-null    float64\n",
            " 4   Rcmnd cruise Knots       493 non-null    float64\n",
            " 5   Stall Knots dirty        490 non-null    float64\n",
            " 6   Fuel gal/lbs             503 non-null    float64\n",
            " 7   All eng rate of climb    499 non-null    object \n",
            " 8   Eng out rate of climb    479 non-null    float64\n",
            " 9   Takeoff over 50ft        479 non-null    float64\n",
            " 10  Landing over 50ft        503 non-null    object \n",
            " 11  Empty weight lbs         503 non-null    object \n",
            " 12  Length ft/in             503 non-null    object \n",
            " 13  Wing span ft/in          503 non-null    object \n",
            " 14  Range N.M.               485 non-null    object \n",
            " 15  Price                    496 non-null    float64\n",
            "dtypes: float64(7), object(9)\n",
            "memory usage: 64.8+ KB\n"
          ]
        }
      ]
    },
    {
      "cell_type": "code",
      "source": [
        "df=df.dropna()\n",
        "y=df[\"Price\"]\n",
        "\n"
      ],
      "metadata": {
        "id": "CDkKyc9rs_0n"
      },
      "execution_count": 162,
      "outputs": []
    },
    {
      "cell_type": "code",
      "source": [
        "df.info()"
      ],
      "metadata": {
        "colab": {
          "base_uri": "https://localhost:8080/"
        },
        "id": "k0AEJQy9zWKB",
        "outputId": "2c935b86-af19-4539-ea1d-f0b573c8fb2d"
      },
      "execution_count": 163,
      "outputs": [
        {
          "output_type": "stream",
          "name": "stdout",
          "text": [
            "<class 'pandas.core.frame.DataFrame'>\n",
            "Index: 415 entries, 0 to 516\n",
            "Data columns (total 16 columns):\n",
            " #   Column                   Non-Null Count  Dtype  \n",
            "---  ------                   --------------  -----  \n",
            " 0   Model Name               415 non-null    object \n",
            " 1   Engine Type              415 non-null    object \n",
            " 2   HP or lbs thr ea engine  415 non-null    object \n",
            " 3   Max speed Knots          415 non-null    float64\n",
            " 4   Rcmnd cruise Knots       415 non-null    float64\n",
            " 5   Stall Knots dirty        415 non-null    float64\n",
            " 6   Fuel gal/lbs             415 non-null    float64\n",
            " 7   All eng rate of climb    415 non-null    object \n",
            " 8   Eng out rate of climb    415 non-null    float64\n",
            " 9   Takeoff over 50ft        415 non-null    float64\n",
            " 10  Landing over 50ft        415 non-null    object \n",
            " 11  Empty weight lbs         415 non-null    object \n",
            " 12  Length ft/in             415 non-null    object \n",
            " 13  Wing span ft/in          415 non-null    object \n",
            " 14  Range N.M.               415 non-null    object \n",
            " 15  Price                    415 non-null    float64\n",
            "dtypes: float64(7), object(9)\n",
            "memory usage: 55.1+ KB\n"
          ]
        }
      ]
    },
    {
      "cell_type": "code",
      "source": [
        "df['HP or lbs thr ea engine'] = df['HP or lbs thr ea engine'].str.replace(',', '').astype('float64')\n",
        "df['Max speed Knots'] = df['Max speed Knots'].astype('float64')"
      ],
      "metadata": {
        "id": "X3mknwIe2bUk"
      },
      "execution_count": 164,
      "outputs": []
    },
    {
      "cell_type": "code",
      "source": [
        "df['All eng rate of climb'] = df['All eng rate of climb'].str.replace(',', '').astype('float64')"
      ],
      "metadata": {
        "id": "fl5AzdDQ2-tA"
      },
      "execution_count": 165,
      "outputs": []
    },
    {
      "cell_type": "code",
      "source": [
        "df['Landing over 50ft'] = df['Landing over 50ft'].str.replace(',', '').astype('float64')"
      ],
      "metadata": {
        "id": "wJS2Et4S3Kh3"
      },
      "execution_count": 166,
      "outputs": []
    },
    {
      "cell_type": "code",
      "source": [
        "df['Empty weight lbs'] = df['Empty weight lbs'].str.replace(',', '').astype('float64')"
      ],
      "metadata": {
        "id": "EnyVh5cm3Rvh"
      },
      "execution_count": 167,
      "outputs": []
    },
    {
      "cell_type": "code",
      "source": [
        "df['Length ft/in'] = df['Length ft/in'].str.replace(',', '')  # Virgülleri kaldır\n",
        "def safe_eval(value):\n",
        "    try:\n",
        "        if '/' in value:\n",
        "            num, den = map(float, value.split('/'))  # Kesirleri ayır\n",
        "            return num / den if den != 0 else None  # 0'a bölme hatasını önle\n",
        "        return float(value)  # Normal sayıları çevir\n",
        "    except:\n",
        "        return None  # Geçersiz verileri NaN yap\n",
        "\n",
        "df['Length ft/in'] = df['Length ft/in'].apply(safe_eval)  # Fonksiyonu uygula\n"
      ],
      "metadata": {
        "id": "GihN4i183S4v"
      },
      "execution_count": 168,
      "outputs": []
    },
    {
      "cell_type": "code",
      "source": [
        "df['Wing span ft/in'] = df['Wing span ft/in'].str.replace(',', '')  # Virgülleri kaldır\n",
        "def safe_eval(value):\n",
        "    try:\n",
        "        if '/' in value:\n",
        "            num, den = map(float, value.split('/'))  # Kesirleri ayır\n",
        "            return num / den if den != 0 else None  # 0'a bölme hatasını önle\n",
        "        return float(value)  # Normal sayıları çevir\n",
        "    except:\n",
        "        return None  # Geçersiz verileri NaN yap\n",
        "\n",
        "df['Wing span ft/in'] = df['Wing span ft/in'].apply(safe_eval)  # Fonksiyonu uygula\n"
      ],
      "metadata": {
        "id": "eabXv6WP3Tvp"
      },
      "execution_count": 169,
      "outputs": []
    },
    {
      "cell_type": "code",
      "source": [
        "df['Range N.M.'] = df['Range N.M.'].str.replace(',', '').astype('float64')"
      ],
      "metadata": {
        "id": "fmyJGc033udj"
      },
      "execution_count": 170,
      "outputs": []
    },
    {
      "cell_type": "code",
      "source": [
        "df.info()"
      ],
      "metadata": {
        "colab": {
          "base_uri": "https://localhost:8080/"
        },
        "id": "KFthK2mn9ALE",
        "outputId": "e7fbe3c0-fbbc-4df4-b832-6fdeb152738b"
      },
      "execution_count": 171,
      "outputs": [
        {
          "output_type": "stream",
          "name": "stdout",
          "text": [
            "<class 'pandas.core.frame.DataFrame'>\n",
            "Index: 415 entries, 0 to 516\n",
            "Data columns (total 16 columns):\n",
            " #   Column                   Non-Null Count  Dtype  \n",
            "---  ------                   --------------  -----  \n",
            " 0   Model Name               415 non-null    object \n",
            " 1   Engine Type              415 non-null    object \n",
            " 2   HP or lbs thr ea engine  415 non-null    float64\n",
            " 3   Max speed Knots          415 non-null    float64\n",
            " 4   Rcmnd cruise Knots       415 non-null    float64\n",
            " 5   Stall Knots dirty        415 non-null    float64\n",
            " 6   Fuel gal/lbs             415 non-null    float64\n",
            " 7   All eng rate of climb    415 non-null    float64\n",
            " 8   Eng out rate of climb    415 non-null    float64\n",
            " 9   Takeoff over 50ft        415 non-null    float64\n",
            " 10  Landing over 50ft        415 non-null    float64\n",
            " 11  Empty weight lbs         415 non-null    float64\n",
            " 12  Length ft/in             376 non-null    float64\n",
            " 13  Wing span ft/in          360 non-null    float64\n",
            " 14  Range N.M.               415 non-null    float64\n",
            " 15  Price                    415 non-null    float64\n",
            "dtypes: float64(14), object(2)\n",
            "memory usage: 55.1+ KB\n"
          ]
        }
      ]
    },
    {
      "cell_type": "code",
      "source": [
        "c=df\n",
        "x=df\n",
        "a=c.drop([\"Model Name\",\"Engine Type\",\"Price\"],axis=1)"
      ],
      "metadata": {
        "id": "61gYWEFp9HBO"
      },
      "execution_count": 172,
      "outputs": []
    },
    {
      "cell_type": "code",
      "source": [
        "\n",
        "ss=StandardScaler()\n",
        "x2=ss.fit_transform(a)\n",
        "x2 = pd.DataFrame(x2, columns=a.columns)# burada bir hata var"
      ],
      "metadata": {
        "id": "vRRnAH1REv6l"
      },
      "execution_count": 173,
      "outputs": []
    },
    {
      "cell_type": "code",
      "source": [
        "\n",
        "x2.drop(columns=[\"Length ft/in\", \"Wing span ft/in\"], inplace=True)\n",
        "\n",
        "x2=pd.get_dummies(x,columns=['Model Name',\"Engine Type\"],drop_first=True)"
      ],
      "metadata": {
        "id": "D2d7_goCBQ1F"
      },
      "execution_count": 174,
      "outputs": []
    },
    {
      "cell_type": "code",
      "source": [
        "\n",
        "# x2.drop(columns=[\"Length ft/in\"])\n",
        "# x2.drop(columns=[\"Wing span ft/in\"])"
      ],
      "metadata": {
        "id": "0WOSoLtdBV0_"
      },
      "execution_count": 175,
      "outputs": []
    },
    {
      "cell_type": "code",
      "source": [
        "x2 = x2.reset_index(drop=True)\n",
        "y = y.reset_index(drop=True)\n",
        "\n",
        "from sklearn import tree\n",
        "clf = tree.DecisionTreeRegressor(max_depth=3)\n",
        "model = clf.fit(x2, y)"
      ],
      "metadata": {
        "id": "EKJWdBTGIfNz"
      },
      "execution_count": 176,
      "outputs": []
    },
    {
      "cell_type": "code",
      "source": [
        "model.score(x2,y)"
      ],
      "metadata": {
        "colab": {
          "base_uri": "https://localhost:8080/"
        },
        "id": "N7wGpbywI5LB",
        "outputId": "a37c52ef-ef5d-41b2-92d7-5aecdd006a21"
      },
      "execution_count": 177,
      "outputs": [
        {
          "output_type": "execute_result",
          "data": {
            "text/plain": [
              "0.9808099751738869"
            ]
          },
          "metadata": {},
          "execution_count": 177
        }
      ]
    },
    {
      "cell_type": "code",
      "source": [
        "# Score cok yüksek çıktı modelimiz aşırı öğrenmesini engelemek içint train_test_split kulanacaz"
      ],
      "metadata": {
        "id": "DwidSetNbdMn"
      },
      "execution_count": 178,
      "outputs": []
    },
    {
      "cell_type": "code",
      "source": [
        "from sklearn.model_selection import train_test_split\n",
        "x_train,x_test,y_train,y_test=train_test_split(x2,y,test_size=0.2,random_state=42)"
      ],
      "metadata": {
        "id": "P9cR4-V6cg_B"
      },
      "execution_count": 179,
      "outputs": []
    },
    {
      "cell_type": "code",
      "source": [
        "clff = tree.DecisionTreeRegressor(max_depth=3)\n",
        "modell = clff.fit(x_train, y_train)\n",
        "modell.score(x_test,y_test)\n",
        "\n"
      ],
      "metadata": {
        "colab": {
          "base_uri": "https://localhost:8080/"
        },
        "id": "sE8o1G07c_h9",
        "outputId": "1265f5c2-b423-4060-e5c5-dfb0276e6b2d"
      },
      "execution_count": 180,
      "outputs": [
        {
          "output_type": "execute_result",
          "data": {
            "text/plain": [
              "0.973610215098606"
            ]
          },
          "metadata": {},
          "execution_count": 180
        }
      ]
    },
    {
      "cell_type": "code",
      "source": [
        "y_pred=modell.predict(x_test)"
      ],
      "metadata": {
        "id": "ZW7hrpGkeexl"
      },
      "execution_count": 181,
      "outputs": []
    },
    {
      "cell_type": "code",
      "source": [
        "x_test.shape"
      ],
      "metadata": {
        "colab": {
          "base_uri": "https://localhost:8080/"
        },
        "id": "g5uwmsLjgB3p",
        "outputId": "6b3c646d-46c3-4275-b093-130c0b0136c5"
      },
      "execution_count": 182,
      "outputs": [
        {
          "output_type": "execute_result",
          "data": {
            "text/plain": [
              "(83, 242)"
            ]
          },
          "metadata": {},
          "execution_count": 182
        }
      ]
    },
    {
      "cell_type": "code",
      "source": [
        "plt.scatter(x_test['HP or lbs thr ea engine'],y_pred)\n",
        "\n",
        "plt.show()"
      ],
      "metadata": {
        "colab": {
          "base_uri": "https://localhost:8080/",
          "height": 445
        },
        "id": "sRWAibUakLKO",
        "outputId": "7e5de7ca-f6be-48a2-dcf7-4b9afab09207"
      },
      "execution_count": 186,
      "outputs": [
        {
          "output_type": "display_data",
          "data": {
            "text/plain": [
              "<Figure size 640x480 with 1 Axes>"
            ],
            "image/png": "[encoded data removed]"
          },
          "metadata": {}
        }
      ]
    },
    {
      "cell_type": "code",
      "source": [
        "y_pred\n"
      ],
      "metadata": {
        "colab": {
          "base_uri": "https://localhost:8080/"
        },
        "id": "Xo5j9hdhG3OQ",
        "outputId": "db975f58-0092-4ed2-b7a9-f791a8f2132a"
      },
      "execution_count": 184,
      "outputs": [
        {
          "output_type": "execute_result",
          "data": {
            "text/plain": [
              "array([2714250.        , 4552916.66666667, 2714250.        ,\n",
              "       3075783.33333333, 3075783.33333333, 1180761.9047619 ,\n",
              "       3075783.33333333, 3075783.33333333, 1925724.21052632,\n",
              "       4033333.33333333, 1541488.4057971 , 4552916.66666667,\n",
              "       1541488.4057971 , 1925724.21052632, 3075783.33333333,\n",
              "       2456818.18181818, 1925724.21052632, 1541488.4057971 ,\n",
              "       2714250.        , 4552916.66666667, 1180761.9047619 ,\n",
              "       3075783.33333333, 2456818.18181818, 1541488.4057971 ,\n",
              "       2456818.18181818, 1925724.21052632, 1541488.4057971 ,\n",
              "       1925724.21052632, 3075783.33333333, 2456818.18181818,\n",
              "       1541488.4057971 , 1180761.9047619 , 3075783.33333333,\n",
              "       2456818.18181818, 1925724.21052632, 1541488.4057971 ,\n",
              "       1541488.4057971 , 1180761.9047619 , 1925724.21052632,\n",
              "       2714250.        , 1925724.21052632, 1180761.9047619 ,\n",
              "       1541488.4057971 , 1180761.9047619 , 1925724.21052632,\n",
              "       1925724.21052632, 1541488.4057971 , 2456818.18181818,\n",
              "       1925724.21052632, 3075783.33333333, 3075783.33333333,\n",
              "       4552916.66666667, 2714250.        , 1541488.4057971 ,\n",
              "       4033333.33333333, 1180761.9047619 , 1541488.4057971 ,\n",
              "       3075783.33333333, 3075783.33333333, 1925724.21052632,\n",
              "       2714250.        , 1925724.21052632, 1925724.21052632,\n",
              "       2714250.        , 4552916.66666667, 1925724.21052632,\n",
              "       1541488.4057971 , 1925724.21052632, 1541488.4057971 ,\n",
              "       3075783.33333333, 2714250.        , 1180761.9047619 ,\n",
              "       1925724.21052632, 1925724.21052632, 3075783.33333333,\n",
              "       1925724.21052632, 1541488.4057971 , 1180761.9047619 ,\n",
              "       1541488.4057971 , 2714250.        , 1180761.9047619 ,\n",
              "       1541488.4057971 , 2714250.        ])"
            ]
          },
          "metadata": {},
          "execution_count": 184
        }
      ]
    }
  ]
}